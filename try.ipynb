{
 "cells": [
  {
   "cell_type": "code",
   "execution_count": 5,
   "metadata": {},
   "outputs": [],
   "source": [
    "import numpy as np\n",
    "import matplotlib.pyplot as plt\n",
    "from reservoirpy.datasets import to_forecasting # разбиение на train/test\n",
    "import reservoirpy as rpy\n",
    "from reservoirpy.nodes import Reservoir, Ridge #узлы резервуара и считывающего слоя\n",
    "from reservoirpy.observables import nrmse, rsquare\n",
    "import json\n",
    "from scipy.integrate import solve_ivp\n",
    "import copy\n",
    "import warnings\n",
    "from nolitsa import data\n",
    "\n",
    "\n",
    "dt = 0.01\n",
    "x0 = [0.62225717, -0.08232857, 30.60845379]\n",
    "\n",
    "\n",
    "x = data.lorenz(length=10000, sample=dt, x0=x0,\n",
    "               sigma=16.0, beta=4.0, rho=45.92)[1]\n",
    "\n",
    "#11\n",
    "time = copy.deepcopy(x) #берем значения Лоренца\n",
    "X = time[:,0] #берем только x\n",
    "X = X.reshape(10000,1) #зачем-то \n",
    "X = 2 * (X - X.min()) / (X.max() - X.min()) - 1 #нормализация(?)"
   ]
  },
  {
   "cell_type": "code",
   "execution_count": 10,
   "metadata": {},
   "outputs": [
    {
     "ename": "KeyError",
     "evalue": "'emb_dim'",
     "output_type": "error",
     "traceback": [
      "\u001b[1;31m---------------------------------------------------------------------------\u001b[0m",
      "\u001b[1;31mKeyError\u001b[0m                                  Traceback (most recent call last)",
      "\u001b[1;32m~\\AppData\\Local\\Temp\\ipykernel_14840\\1046959380.py\u001b[0m in \u001b[0;36m<module>\u001b[1;34m\u001b[0m\n\u001b[0;32m      1\u001b[0m \u001b[1;32mimport\u001b[0m \u001b[0mnolds\u001b[0m\u001b[1;33m\u001b[0m\u001b[1;33m\u001b[0m\u001b[0m\n\u001b[1;32m----> 2\u001b[1;33m \u001b[0mlen\u001b[0m \u001b[1;33m=\u001b[0m \u001b[0mnolds\u001b[0m\u001b[1;33m.\u001b[0m\u001b[0mlyap_r_len\u001b[0m\u001b[1;33m(\u001b[0m\u001b[1;33m)\u001b[0m\u001b[1;33m\u001b[0m\u001b[1;33m\u001b[0m\u001b[0m\n\u001b[0m",
      "\u001b[1;32mc:\\ANACONDA\\lib\\site-packages\\nolds\\measures.py\u001b[0m in \u001b[0;36mlyap_r_len\u001b[1;34m(**kwargs)\u001b[0m\n\u001b[0;32m    100\u001b[0m   \"\"\"\n\u001b[0;32m    101\u001b[0m   \u001b[1;31m# minimum length required to find single orbit vector\u001b[0m\u001b[1;33m\u001b[0m\u001b[1;33m\u001b[0m\u001b[0m\n\u001b[1;32m--> 102\u001b[1;33m   \u001b[0mmin_len\u001b[0m \u001b[1;33m=\u001b[0m \u001b[1;33m(\u001b[0m\u001b[0mkwargs\u001b[0m\u001b[1;33m[\u001b[0m\u001b[1;34m'emb_dim'\u001b[0m\u001b[1;33m]\u001b[0m \u001b[1;33m-\u001b[0m \u001b[1;36m1\u001b[0m\u001b[1;33m)\u001b[0m \u001b[1;33m*\u001b[0m \u001b[0mkwargs\u001b[0m\u001b[1;33m[\u001b[0m\u001b[1;34m'lag'\u001b[0m\u001b[1;33m]\u001b[0m \u001b[1;33m+\u001b[0m \u001b[1;36m1\u001b[0m\u001b[1;33m\u001b[0m\u001b[1;33m\u001b[0m\u001b[0m\n\u001b[0m\u001b[0;32m    103\u001b[0m   \u001b[1;31m# we need trajectory_len orbit vectors to follow a complete trajectory\u001b[0m\u001b[1;33m\u001b[0m\u001b[1;33m\u001b[0m\u001b[0m\n\u001b[0;32m    104\u001b[0m   \u001b[0mmin_len\u001b[0m \u001b[1;33m+=\u001b[0m \u001b[0mkwargs\u001b[0m\u001b[1;33m[\u001b[0m\u001b[1;34m'trajectory_len'\u001b[0m\u001b[1;33m]\u001b[0m \u001b[1;33m-\u001b[0m \u001b[1;36m1\u001b[0m\u001b[1;33m\u001b[0m\u001b[1;33m\u001b[0m\u001b[0m\n",
      "\u001b[1;31mKeyError\u001b[0m: 'emb_dim'"
     ]
    }
   ],
   "source": [
    "import nolds\n",
    "len = nolds.lyap_r_len()"
   ]
  },
  {
   "cell_type": "code",
   "execution_count": 4,
   "metadata": {},
   "outputs": [
    {
     "ename": "TypeError",
     "evalue": "mle() got an unexpected keyword argument 'tau'",
     "output_type": "error",
     "traceback": [
      "\u001b[1;31m---------------------------------------------------------------------------\u001b[0m",
      "\u001b[1;31mTypeError\u001b[0m                                 Traceback (most recent call last)",
      "\u001b[1;32m~\\AppData\\Local\\Temp\\ipykernel_14840\\2667372732.py\u001b[0m in \u001b[0;36m<module>\u001b[1;34m\u001b[0m\n\u001b[0;32m     15\u001b[0m \u001b[1;33m\u001b[0m\u001b[0m\n\u001b[0;32m     16\u001b[0m \u001b[1;31m# Calculate the Lyapunov exponent\u001b[0m\u001b[1;33m\u001b[0m\u001b[1;33m\u001b[0m\u001b[0m\n\u001b[1;32m---> 17\u001b[1;33m \u001b[0mle\u001b[0m \u001b[1;33m=\u001b[0m \u001b[0mlyapunov\u001b[0m\u001b[1;33m.\u001b[0m\u001b[0mmle\u001b[0m\u001b[1;33m(\u001b[0m\u001b[0mX\u001b[0m\u001b[1;33m,\u001b[0m \u001b[0mtau\u001b[0m\u001b[1;33m=\u001b[0m\u001b[1;36m1\u001b[0m\u001b[1;33m,\u001b[0m \u001b[0mwindow\u001b[0m\u001b[1;33m=\u001b[0m\u001b[1;36m100\u001b[0m\u001b[1;33m,\u001b[0m \u001b[0mdebug_plot\u001b[0m\u001b[1;33m=\u001b[0m\u001b[1;32mFalse\u001b[0m\u001b[1;33m)\u001b[0m\u001b[1;33m\u001b[0m\u001b[1;33m\u001b[0m\u001b[0m\n\u001b[0m\u001b[0;32m     18\u001b[0m \u001b[0mprint\u001b[0m\u001b[1;33m(\u001b[0m\u001b[0mle\u001b[0m\u001b[1;33m)\u001b[0m\u001b[1;33m\u001b[0m\u001b[1;33m\u001b[0m\u001b[0m\n",
      "\u001b[1;31mTypeError\u001b[0m: mle() got an unexpected keyword argument 'tau'"
     ]
    }
   ],
   "source": [
    "from nolitsa import lyapunov\n",
    "import numpy as np\n",
    "\n",
    "dt = 0.01\n",
    "x0 = [0.62225717, -0.08232857, 30.60845379]\n",
    "\n",
    "x = data.lorenz(length=10000, sample=dt, x0=x0,\n",
    "               sigma=16.0, beta=4.0, rho=45.92)[1]\n",
    "\n",
    "#11\n",
    "time = np.copy(x) #берем значения Лоренца\n",
    "X = time[:,0] #берем только x\n",
    "X = X.reshape(10000,1) #зачем-то \n",
    "X = 2 * (X - X.min()) / (X.max() - X.min()) - 1\n",
    "\n",
    "# Calculate the Lyapunov exponent\n",
    "le = lyapunov.mle(X, tau=1, window=100, debug_plot=False)\n",
    "print(le)"
   ]
  },
  {
   "cell_type": "code",
   "execution_count": 6,
   "metadata": {},
   "outputs": [],
   "source": [
    "import nolds"
   ]
  },
  {
   "cell_type": "code",
   "execution_count": 25,
   "metadata": {},
   "outputs": [
    {
     "ename": "IndexError",
     "evalue": "index 4999 is out of bounds for axis 0 with size 4999",
     "output_type": "error",
     "traceback": [
      "\u001b[1;31m---------------------------------------------------------------------------\u001b[0m",
      "\u001b[1;31mIndexError\u001b[0m                                Traceback (most recent call last)",
      "\u001b[1;32m~\\AppData\\Local\\Temp\\ipykernel_2956\\676354384.py\u001b[0m in \u001b[0;36m<module>\u001b[1;34m\u001b[0m\n\u001b[0;32m      1\u001b[0m \u001b[0mx\u001b[0m \u001b[1;33m=\u001b[0m \u001b[0mX\u001b[0m\u001b[1;33m[\u001b[0m\u001b[1;36m5001\u001b[0m\u001b[1;33m:\u001b[0m\u001b[1;33m]\u001b[0m\u001b[1;33m\u001b[0m\u001b[1;33m\u001b[0m\u001b[0m\n\u001b[1;32m----> 2\u001b[1;33m \u001b[0ml\u001b[0m \u001b[1;33m=\u001b[0m \u001b[0mnolds\u001b[0m\u001b[1;33m.\u001b[0m\u001b[0mlyap_r\u001b[0m\u001b[1;33m(\u001b[0m\u001b[0mx\u001b[0m\u001b[1;33m,\u001b[0m \u001b[0mmin_tsep\u001b[0m \u001b[1;33m=\u001b[0m \u001b[1;36m2500\u001b[0m\u001b[1;33m)\u001b[0m\u001b[1;33m\u001b[0m\u001b[1;33m\u001b[0m\u001b[0m\n\u001b[0m",
      "\u001b[1;32mc:\\ANACONDA\\lib\\site-packages\\nolds\\measures.py\u001b[0m in \u001b[0;36mlyap_r\u001b[1;34m(data, emb_dim, lag, min_tsep, tau, min_neighbors, trajectory_len, fit, debug_plot, debug_data, plot_file, fit_offset)\u001b[0m\n\u001b[0;32m    261\u001b[0m     \u001b[1;32mfor\u001b[0m \u001b[0mi\u001b[0m \u001b[1;32min\u001b[0m \u001b[0mrange\u001b[0m\u001b[1;33m(\u001b[0m\u001b[1;36m1\u001b[0m\u001b[1;33m,\u001b[0m\u001b[0mn\u001b[0m\u001b[1;33m)\u001b[0m\u001b[1;33m:\u001b[0m\u001b[1;33m\u001b[0m\u001b[1;33m\u001b[0m\u001b[0m\n\u001b[0;32m    262\u001b[0m       \u001b[0mlag\u001b[0m \u001b[1;33m=\u001b[0m \u001b[0mi\u001b[0m\u001b[1;33m\u001b[0m\u001b[1;33m\u001b[0m\u001b[0m\n\u001b[1;32m--> 263\u001b[1;33m       \u001b[1;32mif\u001b[0m \u001b[0macorr\u001b[0m\u001b[1;33m[\u001b[0m\u001b[0mn\u001b[0m \u001b[1;33m-\u001b[0m \u001b[1;36m1\u001b[0m \u001b[1;33m+\u001b[0m \u001b[0mi\u001b[0m\u001b[1;33m]\u001b[0m \u001b[1;33m<\u001b[0m \u001b[0meps\u001b[0m \u001b[1;32mor\u001b[0m \u001b[0macorr\u001b[0m\u001b[1;33m[\u001b[0m\u001b[0mn\u001b[0m \u001b[1;33m-\u001b[0m \u001b[1;36m1\u001b[0m \u001b[1;33m-\u001b[0m \u001b[0mi\u001b[0m\u001b[1;33m]\u001b[0m \u001b[1;33m<\u001b[0m \u001b[0meps\u001b[0m\u001b[1;33m:\u001b[0m\u001b[1;33m\u001b[0m\u001b[1;33m\u001b[0m\u001b[0m\n\u001b[0m\u001b[0;32m    264\u001b[0m         \u001b[1;32mbreak\u001b[0m\u001b[1;33m\u001b[0m\u001b[1;33m\u001b[0m\u001b[0m\n\u001b[0;32m    265\u001b[0m       \u001b[1;32mif\u001b[0m \u001b[0mnb_neighbors\u001b[0m\u001b[1;33m(\u001b[0m\u001b[0mi\u001b[0m\u001b[1;33m)\u001b[0m \u001b[1;33m<\u001b[0m \u001b[0mmin_neighbors\u001b[0m\u001b[1;33m:\u001b[0m\u001b[1;33m\u001b[0m\u001b[1;33m\u001b[0m\u001b[0m\n",
      "\u001b[1;31mIndexError\u001b[0m: index 4999 is out of bounds for axis 0 with size 4999"
     ]
    }
   ],
   "source": [
    "x = X[5001:]\n",
    "l = nolds.lyap_r(x, min_tsep = 2500)"
   ]
  },
  {
   "cell_type": "code",
   "execution_count": 3,
   "metadata": {},
   "outputs": [
    {
     "name": "stderr",
     "output_type": "stream",
     "text": [
      "c:\\ANACONDA\\lib\\site-packages\\nolds\\measures.py:240: RuntimeWarning: signal has very low mean frequency, setting min_tsep = 2500\n",
      "  warnings.warn(msg.format(min_tsep), RuntimeWarning)\n"
     ]
    },
    {
     "ename": "IndexError",
     "evalue": "index 10000 is out of bounds for axis 0 with size 10000",
     "output_type": "error",
     "traceback": [
      "\u001b[1;31m---------------------------------------------------------------------------\u001b[0m",
      "\u001b[1;31mIndexError\u001b[0m                                Traceback (most recent call last)",
      "\u001b[1;32m~\\AppData\\Local\\Temp\\ipykernel_14840\\1482718623.py\u001b[0m in \u001b[0;36m<module>\u001b[1;34m\u001b[0m\n\u001b[0;32m      6\u001b[0m \u001b[1;33m\u001b[0m\u001b[0m\n\u001b[0;32m      7\u001b[0m \u001b[1;31m# Оценка ляпуновского показателя\u001b[0m\u001b[1;33m\u001b[0m\u001b[1;33m\u001b[0m\u001b[0m\n\u001b[1;32m----> 8\u001b[1;33m \u001b[0mlyap_exp\u001b[0m \u001b[1;33m=\u001b[0m \u001b[0mnolds\u001b[0m\u001b[1;33m.\u001b[0m\u001b[0mlyap_r\u001b[0m\u001b[1;33m(\u001b[0m\u001b[0mX\u001b[0m\u001b[1;33m)\u001b[0m\u001b[1;33m\u001b[0m\u001b[1;33m\u001b[0m\u001b[0m\n\u001b[0m\u001b[0;32m      9\u001b[0m \u001b[1;33m\u001b[0m\u001b[0m\n\u001b[0;32m     10\u001b[0m \u001b[0mprint\u001b[0m\u001b[1;33m(\u001b[0m\u001b[1;34m\"Ляпуновский показатель:\"\u001b[0m\u001b[1;33m,\u001b[0m \u001b[0mlyap_exp\u001b[0m\u001b[1;33m)\u001b[0m\u001b[1;33m\u001b[0m\u001b[1;33m\u001b[0m\u001b[0m\n",
      "\u001b[1;32mc:\\ANACONDA\\lib\\site-packages\\nolds\\measures.py\u001b[0m in \u001b[0;36mlyap_r\u001b[1;34m(data, emb_dim, lag, min_tsep, tau, min_neighbors, trajectory_len, fit, debug_plot, debug_data, plot_file, fit_offset)\u001b[0m\n\u001b[0;32m    261\u001b[0m     \u001b[1;32mfor\u001b[0m \u001b[0mi\u001b[0m \u001b[1;32min\u001b[0m \u001b[0mrange\u001b[0m\u001b[1;33m(\u001b[0m\u001b[1;36m1\u001b[0m\u001b[1;33m,\u001b[0m\u001b[0mn\u001b[0m\u001b[1;33m)\u001b[0m\u001b[1;33m:\u001b[0m\u001b[1;33m\u001b[0m\u001b[1;33m\u001b[0m\u001b[0m\n\u001b[0;32m    262\u001b[0m       \u001b[0mlag\u001b[0m \u001b[1;33m=\u001b[0m \u001b[0mi\u001b[0m\u001b[1;33m\u001b[0m\u001b[1;33m\u001b[0m\u001b[0m\n\u001b[1;32m--> 263\u001b[1;33m       \u001b[1;32mif\u001b[0m \u001b[0macorr\u001b[0m\u001b[1;33m[\u001b[0m\u001b[0mn\u001b[0m \u001b[1;33m-\u001b[0m \u001b[1;36m1\u001b[0m \u001b[1;33m+\u001b[0m \u001b[0mi\u001b[0m\u001b[1;33m]\u001b[0m \u001b[1;33m<\u001b[0m \u001b[0meps\u001b[0m \u001b[1;32mor\u001b[0m \u001b[0macorr\u001b[0m\u001b[1;33m[\u001b[0m\u001b[0mn\u001b[0m \u001b[1;33m-\u001b[0m \u001b[1;36m1\u001b[0m \u001b[1;33m-\u001b[0m \u001b[0mi\u001b[0m\u001b[1;33m]\u001b[0m \u001b[1;33m<\u001b[0m \u001b[0meps\u001b[0m\u001b[1;33m:\u001b[0m\u001b[1;33m\u001b[0m\u001b[1;33m\u001b[0m\u001b[0m\n\u001b[0m\u001b[0;32m    264\u001b[0m         \u001b[1;32mbreak\u001b[0m\u001b[1;33m\u001b[0m\u001b[1;33m\u001b[0m\u001b[0m\n\u001b[0;32m    265\u001b[0m       \u001b[1;32mif\u001b[0m \u001b[0mnb_neighbors\u001b[0m\u001b[1;33m(\u001b[0m\u001b[0mi\u001b[0m\u001b[1;33m)\u001b[0m \u001b[1;33m<\u001b[0m \u001b[0mmin_neighbors\u001b[0m\u001b[1;33m:\u001b[0m\u001b[1;33m\u001b[0m\u001b[1;33m\u001b[0m\u001b[0m\n",
      "\u001b[1;31mIndexError\u001b[0m: index 10000 is out of bounds for axis 0 with size 10000"
     ]
    }
   ],
   "source": [
    "import nolds\n",
    "import numpy as np\n",
    "\n",
    "# Создание временного ряда\n",
    "time_series = np.random.rand(1000)\n",
    "\n",
    "# Оценка ляпуновского показателя\n",
    "lyap_exp = nolds.lyap_r(X)\n",
    "\n",
    "print(\"Ляпуновский показатель:\", lyap_exp)"
   ]
  },
  {
   "cell_type": "code",
   "execution_count": 34,
   "metadata": {},
   "outputs": [],
   "source": [
    "X.reshape(10000, )\n",
    "X = X[:1000]"
   ]
  },
  {
   "cell_type": "code",
   "execution_count": 7,
   "metadata": {},
   "outputs": [],
   "source": [
    "from nolitsa import data, lyapunov\n",
    "import numpy as np\n",
    "import matplotlib.pyplot as plt\n",
    "\n",
    "dt = 0.01\n",
    "x0 = [0.62225717, -0.08232857, 30.60845379]\n",
    "\n",
    "x = data.lorenz(length=10000, sample=dt, x0=x0,\n",
    "               sigma=16.0, beta=4.0, rho=45.92)[1]\n",
    "\n",
    "#11\n",
    "time = np.copy(x) #берем значения Лоренца\n",
    "X = time[:,0] #берем только x\n",
    "\n",
    "\n",
    "# Choose appropriate Theiler window.\n",
    "window = 60\n",
    "\n",
    "# Time delay.\n",
    "tau = 13\n",
    "\n",
    "# Embedding dimension.\n",
    "dim = [5]\n",
    "\n",
    "d = lyapunov.mle_embed(X, dim=dim, tau=tau, maxt=300, window=window)[0]\n",
    "\n"
   ]
  },
  {
   "cell_type": "code",
   "execution_count": 8,
   "metadata": {},
   "outputs": [
    {
     "data": {
      "text/plain": [
       "array([-8.83229201e-01, -8.77473749e-01, -8.62693256e-01, -8.43489081e-01,\n",
       "       -8.23344111e-01, -8.04659081e-01, -7.88929561e-01, -7.76921222e-01,\n",
       "       -7.68737608e-01, -7.64150927e-01, -7.62198555e-01, -7.61142137e-01,\n",
       "       -7.58265244e-01, -7.50561437e-01, -7.36398065e-01, -7.16549985e-01,\n",
       "       -6.93624450e-01, -6.69986893e-01, -6.47477422e-01, -6.27293680e-01,\n",
       "       -6.09929149e-01, -5.95481509e-01, -5.83628379e-01, -5.73855389e-01,\n",
       "       -5.64992582e-01, -5.55318899e-01, -5.43262641e-01, -5.27520316e-01,\n",
       "       -5.08303001e-01, -4.87091473e-01, -4.65324745e-01, -4.44077384e-01,\n",
       "       -4.24067385e-01, -4.05574186e-01, -3.88730073e-01, -3.73470352e-01,\n",
       "       -3.59915102e-01, -3.47530374e-01, -3.35176584e-01, -3.21625926e-01,\n",
       "       -3.05795188e-01, -2.87471831e-01, -2.67540087e-01, -2.47205603e-01,\n",
       "       -2.27062949e-01, -2.07314551e-01, -1.88270222e-01, -1.70402449e-01,\n",
       "       -1.53960251e-01, -1.39112891e-01, -1.25590655e-01, -1.12698373e-01,\n",
       "       -9.95833550e-02, -8.50555869e-02, -6.88467056e-02, -5.16091699e-02,\n",
       "       -3.41265907e-02, -1.65283543e-02,  1.28347961e-03,  1.90708230e-02,\n",
       "        3.66290243e-02,  5.34836048e-02,  6.91139811e-02,  8.34360466e-02,\n",
       "        9.68056955e-02,  1.09745479e-01,  1.22705322e-01,  1.36080416e-01,\n",
       "        1.50131939e-01,  1.64834099e-01,  1.80060342e-01,  1.95683701e-01,\n",
       "        2.11687499e-01,  2.27711117e-01,  2.43345431e-01,  2.58240744e-01,\n",
       "        2.72347578e-01,  2.85731748e-01,  2.98379386e-01,  3.10606057e-01,\n",
       "        3.23049936e-01,  3.35876719e-01,  3.49151744e-01,  3.63116493e-01,\n",
       "        3.77873627e-01,  3.93098568e-01,  4.08395417e-01,  4.23464149e-01,\n",
       "        4.38091783e-01,  4.52009007e-01,  4.64890618e-01,  4.76812970e-01,\n",
       "        4.88389581e-01,  5.00412063e-01,  5.13200879e-01,  5.26708002e-01,\n",
       "        5.40910527e-01,  5.55805856e-01,  5.71167043e-01,  5.86606996e-01,\n",
       "        6.01874032e-01,  6.16859012e-01,  6.31587533e-01,  6.45865735e-01,\n",
       "        6.59483754e-01,  6.72670749e-01,  6.85959677e-01,  6.99486766e-01,\n",
       "        7.13075152e-01,  7.26841754e-01,  7.40943713e-01,  7.55235474e-01,\n",
       "        7.69563438e-01,  7.83986713e-01,  7.98609203e-01,  8.13372410e-01,\n",
       "        8.28096628e-01,  8.42626132e-01,  8.57029039e-01,  8.71526152e-01,\n",
       "        8.86123118e-01,  9.00657602e-01,  9.15065288e-01,  9.29239552e-01,\n",
       "        9.43119647e-01,  9.56833136e-01,  9.70591441e-01,  9.84643321e-01,\n",
       "        9.99171155e-01,  1.01411877e+00,  1.02919197e+00,  1.04418797e+00,\n",
       "        1.05908817e+00,  1.07387500e+00,  1.08842351e+00,  1.10268211e+00,\n",
       "        1.11672075e+00,  1.13061772e+00,  1.14455171e+00,  1.15874491e+00,\n",
       "        1.17330221e+00,  1.18819629e+00,  1.20359024e+00,  1.21917805e+00,\n",
       "        1.23452019e+00,  1.24943243e+00,  1.26416843e+00,  1.27857047e+00,\n",
       "        1.29263051e+00,  1.30643627e+00,  1.32015820e+00,  1.33400623e+00,\n",
       "        1.34820416e+00,  1.36290641e+00,  1.37817828e+00,  1.39398588e+00,\n",
       "        1.41012384e+00,  1.42619326e+00,  1.44192250e+00,  1.45730404e+00,\n",
       "        1.47236888e+00,  1.48711618e+00,  1.50154116e+00,  1.51568687e+00,\n",
       "        1.52970521e+00,  1.54379347e+00,  1.55818428e+00,  1.57297254e+00,\n",
       "        1.58804933e+00,  1.60332715e+00,  1.61869141e+00,  1.63395155e+00,\n",
       "        1.64904608e+00,  1.66404401e+00,  1.67900284e+00,  1.69401951e+00,\n",
       "        1.70918400e+00,  1.72453657e+00,  1.74006661e+00,  1.75569289e+00,\n",
       "        1.77125304e+00,  1.78655449e+00,  1.80148496e+00,  1.81596212e+00,\n",
       "        1.83003528e+00,  1.84388173e+00,  1.85794082e+00,  1.87210952e+00,\n",
       "        1.88642868e+00,  1.90101467e+00,  1.91595790e+00,  1.93125303e+00,\n",
       "        1.94672615e+00,  1.96216159e+00,  1.97740995e+00,  1.99245625e+00,\n",
       "        2.00725683e+00,  2.02177663e+00,  2.03617409e+00,  2.05069869e+00,\n",
       "        2.06538860e+00,  2.08016802e+00,  2.09511239e+00,  2.11023387e+00,\n",
       "        2.12537691e+00,  2.14042203e+00,  2.15525873e+00,  2.16982357e+00,\n",
       "        2.18406551e+00,  2.19802393e+00,  2.21173014e+00,  2.22531631e+00,\n",
       "        2.23898809e+00,  2.25282616e+00,  2.26676292e+00,  2.28068974e+00,\n",
       "        2.29457016e+00,  2.30841217e+00,  2.32217878e+00,  2.33575304e+00,\n",
       "        2.34910126e+00,  2.36224552e+00,  2.37529673e+00,  2.38835525e+00,\n",
       "        2.40143714e+00,  2.41449756e+00,  2.42741571e+00,  2.44009722e+00,\n",
       "        2.45265546e+00,  2.46497946e+00,  2.47735858e+00,  2.48939215e+00,\n",
       "        2.50139456e+00,  2.51330928e+00,  2.52509974e+00,  2.53680119e+00,\n",
       "        2.54839177e+00,  2.55981696e+00,  2.57107288e+00,  2.58219459e+00,\n",
       "        2.59330836e+00,  2.60431980e+00,  2.61523621e+00,  2.62587760e+00,\n",
       "        2.63646190e+00,  2.64708077e+00,  2.65778854e+00,  2.66858864e+00,\n",
       "        2.67951236e+00,  2.69049025e+00,  2.70139134e+00,  2.71225267e+00,\n",
       "        2.72297249e+00,  2.73366362e+00,  2.74430310e+00,  2.75487142e+00,\n",
       "        2.76519356e+00,  2.77506777e+00,  2.78472235e+00,  2.79420582e+00,\n",
       "        2.80366255e+00,  2.81323544e+00,  2.82290220e+00,  2.83255354e+00,\n",
       "        2.84224979e+00,  2.85183527e+00,  2.86123235e+00,  2.87016444e+00,\n",
       "        2.87848781e+00,  2.88604319e+00,  2.89331136e+00,  2.90046501e+00,\n",
       "        2.90748402e+00,  2.91445601e+00,  2.92137310e+00,  2.92831884e+00,\n",
       "        2.93531935e+00,  2.94238475e+00,  2.94966357e+00,  2.95693812e+00,\n",
       "        2.96390785e+00,  2.97038365e+00,  2.97651128e+00,  2.98238342e+00,\n",
       "        2.98806212e+00,  2.99366219e+00,  2.99917416e+00,  3.00482767e+00,\n",
       "        3.01061208e+00,  3.01659403e+00,  3.02282932e+00,  3.02945131e+00,\n",
       "        3.03624406e+00,  3.04285367e+00,  3.04919649e+00,  3.05517714e+00,\n",
       "        3.06078247e+00,  3.06603726e+00,  3.07103545e+00,  3.07589617e+00])"
      ]
     },
     "execution_count": 8,
     "metadata": {},
     "output_type": "execute_result"
    }
   ],
   "source": [
    "d"
   ]
  }
 ],
 "metadata": {
  "kernelspec": {
   "display_name": "base",
   "language": "python",
   "name": "python3"
  },
  "language_info": {
   "codemirror_mode": {
    "name": "ipython",
    "version": 3
   },
   "file_extension": ".py",
   "mimetype": "text/x-python",
   "name": "python",
   "nbconvert_exporter": "python",
   "pygments_lexer": "ipython3",
   "version": "3.9.13"
  }
 },
 "nbformat": 4,
 "nbformat_minor": 2
}
