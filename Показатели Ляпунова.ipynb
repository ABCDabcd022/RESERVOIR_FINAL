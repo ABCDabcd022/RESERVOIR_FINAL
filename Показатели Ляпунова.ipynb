{
 "cells": [
  {
   "cell_type": "code",
   "execution_count": 1,
   "metadata": {},
   "outputs": [],
   "source": [
    "import numpy as np\n",
    "import matplotlib.pyplot as plt\n",
    "from reservoirpy.datasets import to_forecasting # разбиение на train/test\n",
    "import reservoirpy as rpy\n",
    "from reservoirpy.nodes import Reservoir, Ridge #узлы резервуара и считывающего слоя\n",
    "from reservoirpy.observables import nrmse, rsquare\n",
    "import json\n",
    "from scipy.integrate import solve_ivp\n",
    "import copy\n",
    "import warnings\n",
    "from nolitsa import data\n",
    "\n",
    "\n",
    "dt = 0.01\n",
    "x0 = [0.62225717, -0.08232857, 30.60845379]\n",
    "\n",
    "\n",
    "x = data.lorenz(length=10000, sample=dt, x0=x0,\n",
    "               sigma=16.0, beta=4.0, rho=45.92)[1]\n",
    "\n",
    "#11\n",
    "time = copy.deepcopy(x) #берем значения Лоренца\n",
    "X = time[:,0] #берем только x\n",
    "X = X.reshape(10000,1) #зачем-то \n",
    "X = 2 * (X - X.min()) / (X.max() - X.min()) - 1 #нормализация(?)"
   ]
  },
  {
   "cell_type": "code",
   "execution_count": 2,
   "metadata": {},
   "outputs": [],
   "source": [
    "from nolitsa import data, lyapunov\n",
    "import numpy as np\n",
    "import matplotlib.pyplot as plt\n",
    "\n",
    "dt = 0.01\n",
    "x0 = [0.62225717, -0.08232857, 30.60845379]\n",
    "\n",
    "x = data.lorenz(length=10000, sample=dt, x0=x0,\n",
    "               sigma=16.0, beta=4.0, rho=45.92)[1]\n",
    "\n",
    "#11\n",
    "time = np.copy(x) #берем значения Лоренца\n",
    "X = time[:,0] #берем только x\n",
    "\n",
    "\n",
    "# Choose appropriate Theiler window.\n",
    "window = 60\n",
    "\n",
    "# Time delay.\n",
    "tau = 13\n",
    "\n",
    "# Embedding dimension.\n",
    "dim = [5]\n",
    "\n",
    "d = lyapunov.mle_embed(X, dim=dim, tau=tau, maxt=300, window=window)[0]\n"
   ]
  },
  {
   "cell_type": "code",
   "execution_count": 10,
   "metadata": {},
   "outputs": [
    {
     "data": {
      "text/plain": [
       "3.075896171164522"
      ]
     },
     "execution_count": 10,
     "metadata": {},
     "output_type": "execute_result"
    }
   ],
   "source": [
    "max(d)"
   ]
  },
  {
   "cell_type": "code",
   "execution_count": 8,
   "metadata": {},
   "outputs": [
    {
     "data": {
      "text/plain": [
       "(10000, 3)"
      ]
     },
     "execution_count": 8,
     "metadata": {},
     "output_type": "execute_result"
    }
   ],
   "source": [
    "time.shape"
   ]
  },
  {
   "cell_type": "code",
   "execution_count": 9,
   "metadata": {},
   "outputs": [
    {
     "data": {
      "text/plain": [
       "100.0"
      ]
     },
     "execution_count": 9,
     "metadata": {},
     "output_type": "execute_result"
    }
   ],
   "source": [
    "10000*0.01"
   ]
  },
  {
   "cell_type": "code",
   "execution_count": 3,
   "metadata": {},
   "outputs": [
    {
     "data": {
      "text/plain": [
       "array([-8.83229201e-01, -8.77473749e-01, -8.62693256e-01, -8.43489081e-01,\n",
       "       -8.23344111e-01, -8.04659081e-01, -7.88929561e-01, -7.76921222e-01,\n",
       "       -7.68737608e-01, -7.64150927e-01, -7.62198555e-01, -7.61142137e-01,\n",
       "       -7.58265244e-01, -7.50561437e-01, -7.36398065e-01, -7.16549985e-01,\n",
       "       -6.93624450e-01, -6.69986893e-01, -6.47477422e-01, -6.27293680e-01,\n",
       "       -6.09929149e-01, -5.95481509e-01, -5.83628379e-01, -5.73855389e-01,\n",
       "       -5.64992582e-01, -5.55318899e-01, -5.43262641e-01, -5.27520316e-01,\n",
       "       -5.08303001e-01, -4.87091473e-01, -4.65324745e-01, -4.44077384e-01,\n",
       "       -4.24067385e-01, -4.05574186e-01, -3.88730073e-01, -3.73470352e-01,\n",
       "       -3.59915102e-01, -3.47530374e-01, -3.35176584e-01, -3.21625926e-01,\n",
       "       -3.05795188e-01, -2.87471831e-01, -2.67540087e-01, -2.47205603e-01,\n",
       "       -2.27062949e-01, -2.07314551e-01, -1.88270222e-01, -1.70402449e-01,\n",
       "       -1.53960251e-01, -1.39112891e-01, -1.25590655e-01, -1.12698373e-01,\n",
       "       -9.95833550e-02, -8.50555869e-02, -6.88467056e-02, -5.16091699e-02,\n",
       "       -3.41265907e-02, -1.65283543e-02,  1.28347961e-03,  1.90708230e-02,\n",
       "        3.66290243e-02,  5.34836048e-02,  6.91139811e-02,  8.34360466e-02,\n",
       "        9.68056955e-02,  1.09745479e-01,  1.22705322e-01,  1.36080416e-01,\n",
       "        1.50131939e-01,  1.64834099e-01,  1.80060342e-01,  1.95683701e-01,\n",
       "        2.11687499e-01,  2.27711117e-01,  2.43345431e-01,  2.58240744e-01,\n",
       "        2.72347578e-01,  2.85731748e-01,  2.98379386e-01,  3.10606057e-01,\n",
       "        3.23049936e-01,  3.35876719e-01,  3.49151744e-01,  3.63116493e-01,\n",
       "        3.77873627e-01,  3.93098568e-01,  4.08395417e-01,  4.23464149e-01,\n",
       "        4.38091783e-01,  4.52009007e-01,  4.64890618e-01,  4.76812970e-01,\n",
       "        4.88389581e-01,  5.00412063e-01,  5.13200879e-01,  5.26708002e-01,\n",
       "        5.40910527e-01,  5.55805856e-01,  5.71167043e-01,  5.86606996e-01,\n",
       "        6.01874032e-01,  6.16859012e-01,  6.31587533e-01,  6.45865735e-01,\n",
       "        6.59483754e-01,  6.72670749e-01,  6.85959677e-01,  6.99486766e-01,\n",
       "        7.13075152e-01,  7.26841754e-01,  7.40943713e-01,  7.55235474e-01,\n",
       "        7.69563438e-01,  7.83986713e-01,  7.98609203e-01,  8.13372410e-01,\n",
       "        8.28096628e-01,  8.42626132e-01,  8.57029039e-01,  8.71526152e-01,\n",
       "        8.86123118e-01,  9.00657602e-01,  9.15065288e-01,  9.29239552e-01,\n",
       "        9.43119647e-01,  9.56833136e-01,  9.70591441e-01,  9.84643321e-01,\n",
       "        9.99171155e-01,  1.01411877e+00,  1.02919197e+00,  1.04418797e+00,\n",
       "        1.05908817e+00,  1.07387500e+00,  1.08842351e+00,  1.10268211e+00,\n",
       "        1.11672075e+00,  1.13061772e+00,  1.14455171e+00,  1.15874491e+00,\n",
       "        1.17330221e+00,  1.18819629e+00,  1.20359024e+00,  1.21917805e+00,\n",
       "        1.23452019e+00,  1.24943243e+00,  1.26416843e+00,  1.27857047e+00,\n",
       "        1.29263051e+00,  1.30643627e+00,  1.32015820e+00,  1.33400623e+00,\n",
       "        1.34820416e+00,  1.36290641e+00,  1.37817828e+00,  1.39398588e+00,\n",
       "        1.41012384e+00,  1.42619326e+00,  1.44192250e+00,  1.45730404e+00,\n",
       "        1.47236888e+00,  1.48711618e+00,  1.50154116e+00,  1.51568687e+00,\n",
       "        1.52970521e+00,  1.54379347e+00,  1.55818428e+00,  1.57297254e+00,\n",
       "        1.58804933e+00,  1.60332715e+00,  1.61869141e+00,  1.63395155e+00,\n",
       "        1.64904608e+00,  1.66404401e+00,  1.67900284e+00,  1.69401951e+00,\n",
       "        1.70918400e+00,  1.72453657e+00,  1.74006661e+00,  1.75569289e+00,\n",
       "        1.77125304e+00,  1.78655449e+00,  1.80148496e+00,  1.81596212e+00,\n",
       "        1.83003528e+00,  1.84388173e+00,  1.85794082e+00,  1.87210952e+00,\n",
       "        1.88642868e+00,  1.90101467e+00,  1.91595790e+00,  1.93125303e+00,\n",
       "        1.94672615e+00,  1.96216159e+00,  1.97740995e+00,  1.99245625e+00,\n",
       "        2.00725683e+00,  2.02177663e+00,  2.03617409e+00,  2.05069869e+00,\n",
       "        2.06538860e+00,  2.08016802e+00,  2.09511239e+00,  2.11023387e+00,\n",
       "        2.12537691e+00,  2.14042203e+00,  2.15525873e+00,  2.16982357e+00,\n",
       "        2.18406551e+00,  2.19802393e+00,  2.21173014e+00,  2.22531631e+00,\n",
       "        2.23898809e+00,  2.25282616e+00,  2.26676292e+00,  2.28068974e+00,\n",
       "        2.29457016e+00,  2.30841217e+00,  2.32217878e+00,  2.33575304e+00,\n",
       "        2.34910126e+00,  2.36224552e+00,  2.37529673e+00,  2.38835525e+00,\n",
       "        2.40143714e+00,  2.41449756e+00,  2.42741571e+00,  2.44009722e+00,\n",
       "        2.45265546e+00,  2.46497946e+00,  2.47735858e+00,  2.48939215e+00,\n",
       "        2.50139456e+00,  2.51330928e+00,  2.52509974e+00,  2.53680119e+00,\n",
       "        2.54839177e+00,  2.55981696e+00,  2.57107288e+00,  2.58219459e+00,\n",
       "        2.59330836e+00,  2.60431980e+00,  2.61523621e+00,  2.62587760e+00,\n",
       "        2.63646190e+00,  2.64708077e+00,  2.65778854e+00,  2.66858864e+00,\n",
       "        2.67951236e+00,  2.69049025e+00,  2.70139134e+00,  2.71225267e+00,\n",
       "        2.72297249e+00,  2.73366362e+00,  2.74430310e+00,  2.75487142e+00,\n",
       "        2.76519356e+00,  2.77506777e+00,  2.78472235e+00,  2.79420582e+00,\n",
       "        2.80366255e+00,  2.81323544e+00,  2.82290220e+00,  2.83255354e+00,\n",
       "        2.84224979e+00,  2.85183527e+00,  2.86123235e+00,  2.87016444e+00,\n",
       "        2.87848781e+00,  2.88604319e+00,  2.89331136e+00,  2.90046501e+00,\n",
       "        2.90748402e+00,  2.91445601e+00,  2.92137310e+00,  2.92831884e+00,\n",
       "        2.93531935e+00,  2.94238475e+00,  2.94966357e+00,  2.95693812e+00,\n",
       "        2.96390785e+00,  2.97038365e+00,  2.97651128e+00,  2.98238342e+00,\n",
       "        2.98806212e+00,  2.99366219e+00,  2.99917416e+00,  3.00482767e+00,\n",
       "        3.01061208e+00,  3.01659403e+00,  3.02282932e+00,  3.02945131e+00,\n",
       "        3.03624406e+00,  3.04285367e+00,  3.04919649e+00,  3.05517714e+00,\n",
       "        3.06078247e+00,  3.06603726e+00,  3.07103545e+00,  3.07589617e+00])"
      ]
     },
     "execution_count": 3,
     "metadata": {},
     "output_type": "execute_result"
    }
   ],
   "source": [
    "d"
   ]
  },
  {
   "cell_type": "code",
   "execution_count": 4,
   "metadata": {},
   "outputs": [
    {
     "data": {
      "text/plain": [
       "array([-5.23266392, -5.86243359, -6.58847871, ..., -3.31561834,\n",
       "       -3.72311402, -4.18803975])"
      ]
     },
     "execution_count": 4,
     "metadata": {},
     "output_type": "execute_result"
    }
   ],
   "source": [
    "X"
   ]
  },
  {
   "cell_type": "code",
   "execution_count": 5,
   "metadata": {},
   "outputs": [
    {
     "data": {
      "text/plain": [
       "(10000,)"
      ]
     },
     "execution_count": 5,
     "metadata": {},
     "output_type": "execute_result"
    }
   ],
   "source": [
    "X.shape"
   ]
  },
  {
   "cell_type": "code",
   "execution_count": 6,
   "metadata": {},
   "outputs": [
    {
     "data": {
      "text/plain": [
       "(300,)"
      ]
     },
     "execution_count": 6,
     "metadata": {},
     "output_type": "execute_result"
    }
   ],
   "source": [
    "d.shape"
   ]
  },
  {
   "cell_type": "code",
   "execution_count": 11,
   "metadata": {},
   "outputs": [],
   "source": [
    "X0 = X[:3333]\n",
    "d0 = lyapunov.mle_embed(X0, dim=dim, tau=tau, maxt=300, window=window)[0]"
   ]
  },
  {
   "cell_type": "code",
   "execution_count": 12,
   "metadata": {},
   "outputs": [
    {
     "data": {
      "text/plain": [
       "array([-0.10560208, -0.09797937, -0.07876624, -0.05453885, -0.03026544,\n",
       "       -0.00847101,  0.00972041,  0.02371008,  0.03333358,  0.03908834,\n",
       "        0.0423319 ,  0.04508815,  0.05041656,  0.0616567 ,  0.08033038,\n",
       "        0.10470128,  0.13151306,  0.15782996,  0.18212577,  0.2039448 ,\n",
       "        0.22309707,  0.2396182 ,  0.25373255,  0.26612902,  0.27823456,\n",
       "        0.29244947,  0.31118588,  0.33484051,  0.36162791,  0.38880078,\n",
       "        0.41402446,  0.43652139,  0.45670553,  0.47524225,  0.49221862,\n",
       "        0.50744989,  0.52117828,  0.53437821,  0.54875946,  0.56660667,\n",
       "        0.58884357,  0.61411325,  0.64002234,  0.66436807,  0.68625814,\n",
       "        0.70617274,  0.72482226,  0.7425565 ,  0.75924978,  0.77445697,\n",
       "        0.78843596,  0.80263112,  0.81921407,  0.83923969,  0.86199383,\n",
       "        0.88560319,  0.90805472,  0.92842423,  0.94699986,  0.96440434,\n",
       "        0.98118587,  0.99776119,  1.01409105,  1.02994836,  1.04575062,\n",
       "        1.06221786,  1.07967535,  1.09819531,  1.11773837,  1.13770248,\n",
       "        1.15696424,  1.17471716,  1.19099152,  1.20622517,  1.2209228 ,\n",
       "        1.23545577,  1.25005342,  1.26497643,  1.28055187,  1.29660948,\n",
       "        1.31308843,  1.33010189,  1.34725547,  1.36354059,  1.37827157,\n",
       "        1.39182187,  1.40500026,  1.41843479,  1.4325513 ,  1.4476374 ,\n",
       "        1.46356649,  1.47989387,  1.49603352,  1.51173952,  1.52732024,\n",
       "        1.54290399,  1.55797507,  1.571831  ,  1.58445965,  1.59651769,\n",
       "        1.60893416,  1.62216781,  1.63619665,  1.65070321,  1.66531607,\n",
       "        1.67957565,  1.69349932,  1.70744911,  1.72163861,  1.73575909,\n",
       "        1.74930748,  1.7622894 ,  1.77519511,  1.78861645,  1.80278504,\n",
       "        1.81752149,  1.8325608 ,  1.84744717,  1.86161578,  1.87486206,\n",
       "        1.88756364,  1.90038874,  1.91351015,  1.92663503,  1.93917516,\n",
       "        1.95200966,  1.96531551,  1.97895375,  1.99269405,  2.00638142,\n",
       "        2.01972215,  2.03242561,  2.04431301,  2.05535123,  2.06596695,\n",
       "        2.07666305,  2.08779746,  2.09974223,  2.11285431,  2.1270606 ,\n",
       "        2.14140325,  2.15611281,  2.17082539,  2.18499521,  2.19806916,\n",
       "        2.20984069,  2.22072233,  2.23132304,  2.24208461,  2.25325348,\n",
       "        2.26500416,  2.27739749,  2.29040448,  2.30400842,  2.31793111,\n",
       "        2.33216139,  2.34562897,  2.35728215,  2.36830046,  2.37904121,\n",
       "        2.39037623,  2.40290209,  2.41520499,  2.42764829,  2.44028977,\n",
       "        2.45248159,  2.46530574,  2.47842443,  2.49156848,  2.50369493,\n",
       "        2.51523724,  2.52572339,  2.53575931,  2.54599505,  2.55666337,\n",
       "        2.56797126,  2.57881306,  2.58968316,  2.60043766,  2.610594  ,\n",
       "        2.62128111,  2.6321349 ,  2.64293509,  2.65316501,  2.66265869,\n",
       "        2.67187798,  2.68144581,  2.69158274,  2.70196733,  2.71229603,\n",
       "        2.72288037,  2.73308985,  2.74324887,  2.75353984,  2.76405964,\n",
       "        2.77449558,  2.78465552,  2.79437561,  2.80400389,  2.81403947,\n",
       "        2.82450318,  2.83495134,  2.84497777,  2.85469053,  2.86435225,\n",
       "        2.87417787,  2.88424994,  2.894505  ,  2.90481316,  2.9148313 ,\n",
       "        2.9245283 ,  2.9342232 ,  2.94421833,  2.95450906,  2.96475864,\n",
       "        2.97448007,  2.9835623 ,  2.99217572,  3.00048261,  3.00855754,\n",
       "        3.01642164,  3.02414449,  3.03184791,  3.03966024,  3.04763684,\n",
       "        3.05577631,  3.06398793,  3.07213702,  3.08002451,  3.08753359,\n",
       "        3.09479661,  3.10187914,  3.10862741,  3.11484856,  3.12059439,\n",
       "        3.12598201,  3.13118274,  3.1361905 ,  3.14132906,  3.14646631,\n",
       "        3.15211081,  3.15796917,  3.16391608,  3.16909208,  3.17425239,\n",
       "        3.17936381,  3.18452597,  3.18902774,  3.19282484,  3.19600333,\n",
       "        3.19873525,  3.2013861 ,  3.20432851,  3.20820897,  3.21273539,\n",
       "        3.21780205,  3.22320717,  3.22815609,  3.23265393,  3.2374251 ,\n",
       "        3.24144272,  3.24456015,  3.24661427,  3.24771202,  3.24837316,\n",
       "        3.24906239,  3.25014307,  3.25185258,  3.25428712,  3.25735998,\n",
       "        3.26070911,  3.26426616,  3.2672878 ,  3.26906086,  3.26977206,\n",
       "        3.26931287,  3.26786643,  3.26600217,  3.26439838,  3.26355861,\n",
       "        3.26367243,  3.26472207,  3.26643408,  3.26834095,  3.27009691,\n",
       "        3.27086119,  3.27082151,  3.27025633,  3.26884159,  3.26668814,\n",
       "        3.26423581,  3.26207404,  3.26067269,  3.26010315,  3.26021384,\n",
       "        3.2608221 ,  3.26147939,  3.26247194,  3.26334586,  3.2643694 ])"
      ]
     },
     "execution_count": 12,
     "metadata": {},
     "output_type": "execute_result"
    }
   ],
   "source": [
    "d0"
   ]
  },
  {
   "cell_type": "code",
   "execution_count": 13,
   "metadata": {},
   "outputs": [
    {
     "data": {
      "text/plain": [
       "3.2708611904444704"
      ]
     },
     "execution_count": 13,
     "metadata": {},
     "output_type": "execute_result"
    }
   ],
   "source": [
    "max(d0)"
   ]
  },
  {
   "cell_type": "code",
   "execution_count": 14,
   "metadata": {},
   "outputs": [],
   "source": [
    "X0 = X[:1000]\n",
    "d0 = lyapunov.mle_embed(X0, dim=dim, tau=tau, maxt=300, window=window)[0]"
   ]
  },
  {
   "cell_type": "code",
   "execution_count": 15,
   "metadata": {},
   "outputs": [
    {
     "data": {
      "text/plain": [
       "3.830171030561189"
      ]
     },
     "execution_count": 15,
     "metadata": {},
     "output_type": "execute_result"
    }
   ],
   "source": [
    "max(d0)"
   ]
  },
  {
   "cell_type": "code",
   "execution_count": 16,
   "metadata": {},
   "outputs": [
    {
     "data": {
      "text/plain": [
       "3.0239454219779973"
      ]
     },
     "execution_count": 16,
     "metadata": {},
     "output_type": "execute_result"
    }
   ],
   "source": [
    "X0 = X[1000:]\n",
    "d0 = lyapunov.mle_embed(X0, dim=dim, tau=tau, maxt=300, window=window)[0]\n",
    "max(d0)"
   ]
  },
  {
   "cell_type": "code",
   "execution_count": 17,
   "metadata": {},
   "outputs": [
    {
     "data": {
      "text/plain": [
       "[1]"
      ]
     },
     "execution_count": 17,
     "metadata": {},
     "output_type": "execute_result"
    }
   ],
   "source": [
    "[1,2,3][:1]"
   ]
  },
  {
   "cell_type": "code",
   "execution_count": 19,
   "metadata": {},
   "outputs": [
    {
     "data": {
      "text/plain": [
       "3.896975369217413"
      ]
     },
     "execution_count": 19,
     "metadata": {},
     "output_type": "execute_result"
    }
   ],
   "source": [
    "X0 = X[:200]\n",
    "d0 = lyapunov.mle_embed(X0, dim=dim, tau=tau, maxt=300, window=window)[0]\n",
    "max(d0)"
   ]
  },
  {
   "cell_type": "code",
   "execution_count": 20,
   "metadata": {},
   "outputs": [
    {
     "data": {
      "text/plain": [
       "(13, 92)"
      ]
     },
     "execution_count": 20,
     "metadata": {},
     "output_type": "execute_result"
    }
   ],
   "source": [
    "13,92"
   ]
  },
  {
   "cell_type": "code",
   "execution_count": 21,
   "metadata": {},
   "outputs": [
    {
     "data": {
      "text/plain": [
       "3.075896171164522"
      ]
     },
     "execution_count": 21,
     "metadata": {},
     "output_type": "execute_result"
    }
   ],
   "source": [
    "x = data.lorenz(length=10000, sample=dt, x0=x0,\n",
    "               sigma=16.0, beta=4.0, rho=45.92)[1]\n",
    "\n",
    "time = np.copy(x) #берем значения Лоренца\n",
    "X = time[:,0] #берем только x\n",
    "\n",
    "\n",
    "# Choose appropriate Theiler window.\n",
    "window = 60\n",
    "\n",
    "# Time delay.\n",
    "tau = 13\n",
    "\n",
    "# Embedding dimension.\n",
    "dim = [5]\n",
    "\n",
    "d = lyapunov.mle_embed(X, dim=dim, tau=tau, maxt=300, window=window)[0]\n",
    "max(d)"
   ]
  },
  {
   "cell_type": "code",
   "execution_count": 32,
   "metadata": {},
   "outputs": [
    {
     "ename": "Exception",
     "evalue": "Could not find any near neighbor with a nonzero distance.  Try increasing the value of maxnum.",
     "output_type": "error",
     "traceback": [
      "\u001b[1;31m---------------------------------------------------------------------------\u001b[0m",
      "\u001b[1;31mRemoteTraceback\u001b[0m                           Traceback (most recent call last)",
      "\u001b[1;31mRemoteTraceback\u001b[0m: \n\"\"\"\nTraceback (most recent call last):\n  File \"c:\\ANACONDA\\lib\\multiprocessing\\pool.py\", line 125, in worker\n    result = (True, func(*args, **kwds))\n  File \"c:\\ANACONDA\\lib\\site-packages\\nolitsa\\lyapunov.py\", line 58, in mle\n    index, dist = utils.neighbors(y, metric=metric, window=window,\n  File \"c:\\ANACONDA\\lib\\site-packages\\nolitsa\\utils.py\", line 205, in neighbors\n    raise Exception('Could not find any near neighbor with a '\nException: Could not find any near neighbor with a nonzero distance.  Try increasing the value of maxnum.\n\"\"\"",
      "\nThe above exception was the direct cause of the following exception:\n",
      "\u001b[1;31mException\u001b[0m                                 Traceback (most recent call last)",
      "\u001b[1;32m~\\AppData\\Local\\Temp\\ipykernel_16312\\2071639733.py\u001b[0m in \u001b[0;36m<module>\u001b[1;34m\u001b[0m\n\u001b[0;32m     21\u001b[0m \u001b[0mdim\u001b[0m \u001b[1;33m=\u001b[0m \u001b[1;33m[\u001b[0m\u001b[1;36m5\u001b[0m\u001b[1;33m]\u001b[0m\u001b[1;33m\u001b[0m\u001b[1;33m\u001b[0m\u001b[0m\n\u001b[0;32m     22\u001b[0m \u001b[0mX0\u001b[0m \u001b[1;33m=\u001b[0m \u001b[0mX\u001b[0m\u001b[1;33m[\u001b[0m\u001b[1;33m:\u001b[0m\u001b[1;36m1000\u001b[0m\u001b[1;33m]\u001b[0m\u001b[1;33m\u001b[0m\u001b[1;33m\u001b[0m\u001b[0m\n\u001b[1;32m---> 23\u001b[1;33m \u001b[0md\u001b[0m \u001b[1;33m=\u001b[0m \u001b[0mlyapunov\u001b[0m\u001b[1;33m.\u001b[0m\u001b[0mmle_embed\u001b[0m\u001b[1;33m(\u001b[0m\u001b[0mX\u001b[0m\u001b[1;33m,\u001b[0m \u001b[0mdim\u001b[0m\u001b[1;33m=\u001b[0m\u001b[0mdim\u001b[0m\u001b[1;33m,\u001b[0m \u001b[0mtau\u001b[0m\u001b[1;33m=\u001b[0m\u001b[0mtau\u001b[0m\u001b[1;33m,\u001b[0m \u001b[0mmaxt\u001b[0m\u001b[1;33m=\u001b[0m\u001b[1;36m300\u001b[0m\u001b[1;33m,\u001b[0m \u001b[0mwindow\u001b[0m\u001b[1;33m=\u001b[0m\u001b[0mwindow\u001b[0m\u001b[1;33m)\u001b[0m\u001b[1;33m[\u001b[0m\u001b[1;36m0\u001b[0m\u001b[1;33m]\u001b[0m\u001b[1;33m\u001b[0m\u001b[1;33m\u001b[0m\u001b[0m\n\u001b[0m",
      "\u001b[1;32mc:\\ANACONDA\\lib\\site-packages\\nolitsa\\lyapunov.py\u001b[0m in \u001b[0;36mmle_embed\u001b[1;34m(x, dim, tau, window, maxt, metric, maxnum, parallel)\u001b[0m\n\u001b[0;32m    131\u001b[0m     \u001b[0myy\u001b[0m \u001b[1;33m=\u001b[0m \u001b[1;33m[\u001b[0m\u001b[0mutils\u001b[0m\u001b[1;33m.\u001b[0m\u001b[0mreconstruct\u001b[0m\u001b[1;33m(\u001b[0m\u001b[0mx\u001b[0m\u001b[1;33m,\u001b[0m \u001b[0mdim\u001b[0m\u001b[1;33m=\u001b[0m\u001b[0md\u001b[0m\u001b[1;33m,\u001b[0m \u001b[0mtau\u001b[0m\u001b[1;33m=\u001b[0m\u001b[0mtau\u001b[0m\u001b[1;33m)\u001b[0m \u001b[1;32mfor\u001b[0m \u001b[0md\u001b[0m \u001b[1;32min\u001b[0m \u001b[0mdim\u001b[0m\u001b[1;33m]\u001b[0m\u001b[1;33m\u001b[0m\u001b[1;33m\u001b[0m\u001b[0m\n\u001b[0;32m    132\u001b[0m \u001b[1;33m\u001b[0m\u001b[0m\n\u001b[1;32m--> 133\u001b[1;33m     return utils.parallel_map(mle, yy, kwargs={\n\u001b[0m\u001b[0;32m    134\u001b[0m                               \u001b[1;34m'maxt'\u001b[0m\u001b[1;33m:\u001b[0m \u001b[0mmaxt\u001b[0m\u001b[1;33m,\u001b[0m\u001b[1;33m\u001b[0m\u001b[1;33m\u001b[0m\u001b[0m\n\u001b[0;32m    135\u001b[0m                               \u001b[1;34m'window'\u001b[0m\u001b[1;33m:\u001b[0m \u001b[0mwindow\u001b[0m\u001b[1;33m,\u001b[0m\u001b[1;33m\u001b[0m\u001b[1;33m\u001b[0m\u001b[0m\n",
      "\u001b[1;32mc:\\ANACONDA\\lib\\site-packages\\nolitsa\\utils.py\u001b[0m in \u001b[0;36mparallel_map\u001b[1;34m(func, values, args, kwargs, processes)\u001b[0m\n\u001b[0;32m    252\u001b[0m     \u001b[0mpool\u001b[0m\u001b[1;33m.\u001b[0m\u001b[0mjoin\u001b[0m\u001b[1;33m(\u001b[0m\u001b[1;33m)\u001b[0m\u001b[1;33m\u001b[0m\u001b[1;33m\u001b[0m\u001b[0m\n\u001b[0;32m    253\u001b[0m \u001b[1;33m\u001b[0m\u001b[0m\n\u001b[1;32m--> 254\u001b[1;33m     \u001b[1;32mreturn\u001b[0m \u001b[0mnp\u001b[0m\u001b[1;33m.\u001b[0m\u001b[0masarray\u001b[0m\u001b[1;33m(\u001b[0m\u001b[1;33m[\u001b[0m\u001b[0mresult\u001b[0m\u001b[1;33m.\u001b[0m\u001b[0mget\u001b[0m\u001b[1;33m(\u001b[0m\u001b[1;33m)\u001b[0m \u001b[1;32mfor\u001b[0m \u001b[0mresult\u001b[0m \u001b[1;32min\u001b[0m \u001b[0mresults\u001b[0m\u001b[1;33m]\u001b[0m\u001b[1;33m)\u001b[0m\u001b[1;33m\u001b[0m\u001b[1;33m\u001b[0m\u001b[0m\n\u001b[0m\u001b[0;32m    255\u001b[0m \u001b[1;33m\u001b[0m\u001b[0m\n\u001b[0;32m    256\u001b[0m \u001b[1;33m\u001b[0m\u001b[0m\n",
      "\u001b[1;32mc:\\ANACONDA\\lib\\site-packages\\nolitsa\\utils.py\u001b[0m in \u001b[0;36m<listcomp>\u001b[1;34m(.0)\u001b[0m\n\u001b[0;32m    252\u001b[0m     \u001b[0mpool\u001b[0m\u001b[1;33m.\u001b[0m\u001b[0mjoin\u001b[0m\u001b[1;33m(\u001b[0m\u001b[1;33m)\u001b[0m\u001b[1;33m\u001b[0m\u001b[1;33m\u001b[0m\u001b[0m\n\u001b[0;32m    253\u001b[0m \u001b[1;33m\u001b[0m\u001b[0m\n\u001b[1;32m--> 254\u001b[1;33m     \u001b[1;32mreturn\u001b[0m \u001b[0mnp\u001b[0m\u001b[1;33m.\u001b[0m\u001b[0masarray\u001b[0m\u001b[1;33m(\u001b[0m\u001b[1;33m[\u001b[0m\u001b[0mresult\u001b[0m\u001b[1;33m.\u001b[0m\u001b[0mget\u001b[0m\u001b[1;33m(\u001b[0m\u001b[1;33m)\u001b[0m \u001b[1;32mfor\u001b[0m \u001b[0mresult\u001b[0m \u001b[1;32min\u001b[0m \u001b[0mresults\u001b[0m\u001b[1;33m]\u001b[0m\u001b[1;33m)\u001b[0m\u001b[1;33m\u001b[0m\u001b[1;33m\u001b[0m\u001b[0m\n\u001b[0m\u001b[0;32m    255\u001b[0m \u001b[1;33m\u001b[0m\u001b[0m\n\u001b[0;32m    256\u001b[0m \u001b[1;33m\u001b[0m\u001b[0m\n",
      "\u001b[1;32mc:\\ANACONDA\\lib\\multiprocessing\\pool.py\u001b[0m in \u001b[0;36mget\u001b[1;34m(self, timeout)\u001b[0m\n\u001b[0;32m    769\u001b[0m             \u001b[1;32mreturn\u001b[0m \u001b[0mself\u001b[0m\u001b[1;33m.\u001b[0m\u001b[0m_value\u001b[0m\u001b[1;33m\u001b[0m\u001b[1;33m\u001b[0m\u001b[0m\n\u001b[0;32m    770\u001b[0m         \u001b[1;32melse\u001b[0m\u001b[1;33m:\u001b[0m\u001b[1;33m\u001b[0m\u001b[1;33m\u001b[0m\u001b[0m\n\u001b[1;32m--> 771\u001b[1;33m             \u001b[1;32mraise\u001b[0m \u001b[0mself\u001b[0m\u001b[1;33m.\u001b[0m\u001b[0m_value\u001b[0m\u001b[1;33m\u001b[0m\u001b[1;33m\u001b[0m\u001b[0m\n\u001b[0m\u001b[0;32m    772\u001b[0m \u001b[1;33m\u001b[0m\u001b[0m\n\u001b[0;32m    773\u001b[0m     \u001b[1;32mdef\u001b[0m \u001b[0m_set\u001b[0m\u001b[1;33m(\u001b[0m\u001b[0mself\u001b[0m\u001b[1;33m,\u001b[0m \u001b[0mi\u001b[0m\u001b[1;33m,\u001b[0m \u001b[0mobj\u001b[0m\u001b[1;33m)\u001b[0m\u001b[1;33m:\u001b[0m\u001b[1;33m\u001b[0m\u001b[1;33m\u001b[0m\u001b[0m\n",
      "\u001b[1;31mException\u001b[0m: Could not find any near neighbor with a nonzero distance.  Try increasing the value of maxnum."
     ]
    }
   ],
   "source": [
    "dt = 0.01\n",
    "x0 = [0.622257170, -0.08232857, 30.60845379]\n",
    "\n",
    "x = data.lorenz(length=1000, sample=dt, x0=x0,\n",
    "               sigma=16.0, beta=4.0, rho=45.92)[1]\n",
    "\n",
    "x = [1]*10000\n",
    "\n",
    "#11\n",
    "time = np.copy(x) #берем значения Лоренца\n",
    "#X = time[:,0] #берем только x\n",
    "\n",
    "\n",
    "# Choose appropriate Theiler window.\n",
    "window = 60\n",
    "\n",
    "# Time delay.\n",
    "tau = 13\n",
    "\n",
    "# Embedding dimension.\n",
    "dim = [5]\n",
    "X0 = X[:1000]\n",
    "d = lyapunov.mle_embed(X, dim=dim, tau=tau, maxt=300, window=window)[0]"
   ]
  },
  {
   "cell_type": "code",
   "execution_count": 28,
   "metadata": {},
   "outputs": [
    {
     "data": {
      "text/plain": [
       "3.8624054448599643"
      ]
     },
     "execution_count": 28,
     "metadata": {},
     "output_type": "execute_result"
    }
   ],
   "source": [
    "max(d)"
   ]
  }
 ],
 "metadata": {
  "kernelspec": {
   "display_name": "base",
   "language": "python",
   "name": "python3"
  },
  "language_info": {
   "codemirror_mode": {
    "name": "ipython",
    "version": 3
   },
   "file_extension": ".py",
   "mimetype": "text/x-python",
   "name": "python",
   "nbconvert_exporter": "python",
   "pygments_lexer": "ipython3",
   "version": "3.9.13"
  }
 },
 "nbformat": 4,
 "nbformat_minor": 2
}
